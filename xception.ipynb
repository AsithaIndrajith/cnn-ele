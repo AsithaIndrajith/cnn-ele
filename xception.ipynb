{
  "nbformat": 4,
  "nbformat_minor": 0,
  "metadata": {
    "accelerator": "GPU",
    "colab": {
      "name": "xception",
      "provenance": [],
      "collapsed_sections": [],
      "toc_visible": true
    },
    "kernelspec": {
      "display_name": "Python 3",
      "language": "python",
      "name": "python3"
    },
    "language_info": {
      "codemirror_mode": {
        "name": "ipython",
        "version": 3
      },
      "file_extension": ".py",
      "mimetype": "text/x-python",
      "name": "python",
      "nbconvert_exporter": "python",
      "pygments_lexer": "ipython3",
      "version": "3.7.3"
    }
  },
  "cells": [
    {
      "cell_type": "markdown",
      "metadata": {
        "id": "5f6Qtr5teMaa"
      },
      "source": [
        "## Xception Model Training Porocess"
      ]
    },
    {
      "cell_type": "markdown",
      "metadata": {
        "id": "OjcpyoRjbMds"
      },
      "source": [
        "### Import libraries"
      ]
    },
    {
      "cell_type": "code",
      "metadata": {
        "id": "q80TAieG7f3e"
      },
      "source": [
        "import numpy as np\n",
        "import keras\n",
        "import tensorflow as tf\n",
        "from matplotlib import pyplot as plt\n",
        "from time import time\n",
        "import warnings\n",
        "from sklearn.metrics import classification_report, confusion_matrix\n",
        "import itertools\n",
        "import os\n",
        "import seaborn as sns\n",
        "import matplotlib.pyplot as plt\n",
        "warnings.filterwarnings(\"ignore\")\n",
        "%matplotlib inline"
      ],
      "execution_count": null,
      "outputs": []
    },
    {
      "cell_type": "markdown",
      "metadata": {
        "id": "9UUSCwUWbPgt"
      },
      "source": [
        "### Dataset paths"
      ]
    },
    {
      "cell_type": "code",
      "metadata": {
        "id": "TQQIwBKx7yK3"
      },
      "source": [
        "train_path = ''\n",
        "valid_path = ''\n",
        "test_path = ''"
      ],
      "execution_count": null,
      "outputs": []
    },
    {
      "cell_type": "markdown",
      "metadata": {
        "id": "Jn2EgL7QbTg-"
      },
      "source": [
        "### Training classes"
      ]
    },
    {
      "cell_type": "code",
      "metadata": {
        "id": "GuNizLaoaiLp"
      },
      "source": [
        "train_classes = os.listdir(train_path)"
      ],
      "execution_count": null,
      "outputs": []
    },
    {
      "cell_type": "markdown",
      "metadata": {
        "id": "-0puXx1EbW-L"
      },
      "source": [
        "### Training batch sizes"
      ]
    },
    {
      "cell_type": "code",
      "metadata": {
        "id": "mUN-3ndJaiLq"
      },
      "source": [
        "train_batch_size = 32\n",
        "test_batch_size = 32\n",
        "valid_batch_size = 32"
      ],
      "execution_count": null,
      "outputs": []
    },
    {
      "cell_type": "markdown",
      "metadata": {
        "id": "NxBhuX7obZMb"
      },
      "source": [
        "### Training samples"
      ]
    },
    {
      "cell_type": "code",
      "metadata": {
        "id": "xNatr3_TaiLq"
      },
      "source": [
        "train_n = 10080\n",
        "test_n = 2520\n",
        "valid_n = 2520"
      ],
      "execution_count": null,
      "outputs": []
    },
    {
      "cell_type": "markdown",
      "metadata": {
        "id": "7ZrycWZtcXFR"
      },
      "source": [
        "### Training steps (per epoch)"
      ]
    },
    {
      "cell_type": "code",
      "metadata": {
        "id": "cyuud8qxaiLq"
      },
      "source": [
        "train_steps = train_n//train_batch_size\n",
        "valid_steps = valid_n//valid_batch_size\n",
        "test_steps = test_n//test_batch_size"
      ],
      "execution_count": null,
      "outputs": []
    },
    {
      "cell_type": "markdown",
      "metadata": {
        "id": "gmm0ZQQFcaRR"
      },
      "source": [
        "### Epochs"
      ]
    },
    {
      "cell_type": "code",
      "metadata": {
        "id": "bGwB0vq_aiLr"
      },
      "source": [
        "epochs = 1000"
      ],
      "execution_count": null,
      "outputs": []
    },
    {
      "cell_type": "markdown",
      "metadata": {
        "id": "4b3I5kiUceiH"
      },
      "source": [
        "### Generate batches"
      ]
    },
    {
      "cell_type": "code",
      "metadata": {
        "id": "TcxoJHZ7y8_e"
      },
      "source": [
        "train_batches = tf.keras.preprocessing.image.ImageDataGenerator().flow_from_directory(train_path, target_size=(299,299), classes=train_classes, batch_size=train_batch_size)\n",
        "valid_batches = tf.keras.preprocessing.image.ImageDataGenerator().flow_from_directory(valid_path, target_size=(299,299), classes=train_classes, batch_size=valid_batch_size)\n",
        "test_batches = tf.keras.preprocessing.image.ImageDataGenerator().flow_from_directory(test_path, target_size=(299,299), classes=train_classes, batch_size=test_batch_size)"
      ],
      "execution_count": null,
      "outputs": []
    },
    {
      "cell_type": "markdown",
      "metadata": {
        "id": "h5rufm0icjNA"
      },
      "source": [
        "### Base model (Xception)"
      ]
    },
    {
      "cell_type": "markdown",
      "metadata": {
        "id": "bohTRaH9crSj"
      },
      "source": [
        "#### Training from scratch"
      ]
    },
    {
      "cell_type": "code",
      "metadata": {
        "id": "xrh6AuZb-6XR"
      },
      "source": [
        "base_model = tf.keras.applications.Xception(include_top=False,\n",
        "    weights=None,\n",
        "    pooling='avg')"
      ],
      "execution_count": null,
      "outputs": []
    },
    {
      "cell_type": "code",
      "metadata": {
        "id": "OG6YUnntaiLu"
      },
      "source": [
        "for layer in base_model.layers:\n",
        "    layer.trainable = False"
      ],
      "execution_count": null,
      "outputs": []
    },
    {
      "cell_type": "code",
      "metadata": {
        "id": "4n5SXVWRaiLu"
      },
      "source": [
        "output =  tf.keras.layers.Dense(len(train_classes), activation='softmax')(base_model.output)\n",
        "new_model = tf.keras.Model(base_model.input, output)"
      ],
      "execution_count": null,
      "outputs": []
    },
    {
      "cell_type": "markdown",
      "metadata": {
        "id": "LkV6Oy1bcwW0"
      },
      "source": [
        "### Set early stopping\n",
        "Avoids model overfitting"
      ]
    },
    {
      "cell_type": "code",
      "metadata": {
        "id": "_0UVP757aiLu"
      },
      "source": [
        "es_callback = tf.keras.callbacks.EarlyStopping(\n",
        "    monitor='acc',\n",
        "    verbose=1,\n",
        "    patience=20,\n",
        "    mode='max',\n",
        "    restore_best_weights=True\n",
        ")"
      ],
      "execution_count": null,
      "outputs": []
    },
    {
      "cell_type": "markdown",
      "metadata": {
        "id": "SKI6gTDgc5pW"
      },
      "source": [
        "### Load tensorboard"
      ]
    },
    {
      "cell_type": "code",
      "metadata": {
        "id": "RVLt_8u8aiLv"
      },
      "source": [
        "# Load the TensorBoard notebook extension\n",
        "%load_ext tensorboard\n",
        "import datetime\n",
        "log_dir = \"logs\\\\\" + datetime.datetime.now().strftime(\"%Y%m%d-%H%M%S\")\n",
        "# !rm -rf logs/"
      ],
      "execution_count": null,
      "outputs": []
    },
    {
      "cell_type": "code",
      "metadata": {
        "id": "ZEFk1eEkaiLv"
      },
      "source": [
        "tb_callback = tf.keras.callbacks.TensorBoard(log_dir=log_dir, histogram_freq=1)"
      ],
      "execution_count": null,
      "outputs": []
    },
    {
      "cell_type": "markdown",
      "metadata": {
        "id": "eJnwba-sc88U"
      },
      "source": [
        "### Generate new model"
      ]
    },
    {
      "cell_type": "code",
      "metadata": {
        "id": "Uye3-lUhaiLv"
      },
      "source": [
        "new_model.compile(optimizer=tf.keras.optimizers.Adam(lr=1e-3), loss=tf.keras.losses.CategoricalCrossentropy(from_logits=False,\n",
        "    label_smoothing=0,\n",
        "    reduction=\"auto\",\n",
        "    name=\"categorical_crossentropy\"), metrics=['accuracy'])"
      ],
      "execution_count": null,
      "outputs": []
    },
    {
      "cell_type": "markdown",
      "metadata": {
        "id": "H_b5nENsc_JR"
      },
      "source": [
        "### Training"
      ]
    },
    {
      "cell_type": "code",
      "metadata": {
        "id": "Qg39SNppcopZ"
      },
      "source": [
        "history = new_model.fit_generator(train_batches, validation_data=valid_batches, validation_steps=valid_steps, steps_per_epoch=train_steps, epochs=epochs,callbacks=[tb_callback, es_callback])"
      ],
      "execution_count": null,
      "outputs": []
    },
    {
      "cell_type": "markdown",
      "metadata": {
        "id": "M75KUjhMdC4T"
      },
      "source": [
        "### Evaluate training process"
      ]
    },
    {
      "cell_type": "code",
      "metadata": {
        "id": "KJbNUdKtaiLw"
      },
      "source": [
        "results = new_model.evaluate_generator(train_batches, train_steps)\n",
        "results"
      ],
      "execution_count": null,
      "outputs": []
    },
    {
      "cell_type": "markdown",
      "metadata": {
        "id": "gPiOmt3BdWJ7"
      },
      "source": [
        "#### Loss function"
      ]
    },
    {
      "cell_type": "code",
      "metadata": {
        "id": "iejCCZcNaiLw"
      },
      "source": [
        "plt.semilogy(history.epoch,  history.history['loss'], label='Train')\n",
        "plt.semilogy(history.epoch,  history.history['val_loss'], label='Validation')\n",
        "plt.xlabel('Epoch')\n",
        "plt.ylabel('Loss')\n",
        "plt.legend()\n",
        "plt.show()"
      ],
      "execution_count": null,
      "outputs": []
    },
    {
      "cell_type": "markdown",
      "metadata": {
        "id": "fvIg0vLtdY_0"
      },
      "source": [
        "#### Accuracy function"
      ]
    },
    {
      "cell_type": "code",
      "metadata": {
        "id": "4daZQkmXaiLx"
      },
      "source": [
        "plt.semilogy(history.epoch,  history.history['acc'], label='Train')\n",
        "plt.semilogy(history.epoch,  history.history['val_acc'], label='Validation')\n",
        "plt.xlabel('Epoch')\n",
        "plt.ylabel('Accuracy')\n",
        "plt.legend()\n",
        "plt.show()"
      ],
      "execution_count": null,
      "outputs": []
    },
    {
      "cell_type": "code",
      "metadata": {
        "id": "6kFJN-rWaiLy"
      },
      "source": [
        "Y_train_pred =new_model.predict_generator(train_batches,train_steps)"
      ],
      "execution_count": null,
      "outputs": []
    },
    {
      "cell_type": "code",
      "metadata": {
        "id": "ZMWTh6OpaiLy"
      },
      "source": [
        "y_train_pred = np.argmax(Y_train_pred, axis=1)"
      ],
      "execution_count": null,
      "outputs": []
    },
    {
      "cell_type": "markdown",
      "metadata": {
        "id": "WJBMtXZqdcbY"
      },
      "source": [
        "#### Confusion matrix"
      ]
    },
    {
      "cell_type": "code",
      "metadata": {
        "id": "bfzGQv-LaiLy"
      },
      "source": [
        "cm_train = confusion_matrix(train_batches.classes, y_train_pred)"
      ],
      "execution_count": null,
      "outputs": []
    },
    {
      "cell_type": "code",
      "metadata": {
        "id": "IwH5VuYMaiLz"
      },
      "source": [
        "plt.figure(figsize=(15,15))\n",
        "sns.heatmap(cm_train, annot=True, fmt=\"d\")\n",
        "plt.title('Confusion matrix (Train)')\n",
        "plt.ylabel('Actual label')\n",
        "plt.xlabel('Predicted label')"
      ],
      "execution_count": null,
      "outputs": []
    },
    {
      "cell_type": "markdown",
      "metadata": {
        "id": "1DA4hsw5dg5j"
      },
      "source": [
        "### Model testing"
      ]
    },
    {
      "cell_type": "code",
      "metadata": {
        "id": "9l0uYBMrBYEX"
      },
      "source": [
        "Y_pred =new_model.predict_generator(test_batches,test_steps)"
      ],
      "execution_count": null,
      "outputs": []
    },
    {
      "cell_type": "code",
      "metadata": {
        "id": "NA-nFUxiaiLx"
      },
      "source": [
        "y_pred = np.argmax(Y_pred, axis=1)"
      ],
      "execution_count": null,
      "outputs": []
    },
    {
      "cell_type": "code",
      "metadata": {
        "id": "kZxYPbqdBvvm"
      },
      "source": [
        "cm = confusion_matrix(test_batches.classes, y_pred)"
      ],
      "execution_count": null,
      "outputs": []
    },
    {
      "cell_type": "code",
      "metadata": {
        "id": "wQjFACoBB2t5"
      },
      "source": [
        "plt.figure(figsize=(15,15))\n",
        "sns.heatmap(cm, annot=True, fmt=\"d\")\n",
        "plt.title('Confusion matrix')\n",
        "plt.ylabel('Actual label')\n",
        "plt.xlabel('Predicted label')"
      ],
      "execution_count": null,
      "outputs": []
    },
    {
      "cell_type": "markdown",
      "metadata": {
        "id": "K1FSvw3BdlGa"
      },
      "source": [
        "### Load tensorboard"
      ]
    },
    {
      "cell_type": "code",
      "metadata": {
        "id": "gWnW3A95aiLz"
      },
      "source": [
        "%tensorboard --logdir logs"
      ],
      "execution_count": null,
      "outputs": []
    },
    {
      "cell_type": "markdown",
      "metadata": {
        "id": "AY1sgUoIdoHm"
      },
      "source": [
        "### Save model"
      ]
    },
    {
      "cell_type": "code",
      "metadata": {
        "id": "FUwqwmJxaiL0"
      },
      "source": [
        "new_model.save('model_name.h5')"
      ],
      "execution_count": null,
      "outputs": []
    }
  ]
}