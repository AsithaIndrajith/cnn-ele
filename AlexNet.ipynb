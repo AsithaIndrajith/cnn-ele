{
  "cells": [
    {
      "cell_type": "markdown",
      "metadata": {
        "id": "nO-5u_G9eVNF"
      },
      "source": [
        "## AlexNet Model Training Porocess"
      ]
    },
    {
      "cell_type": "markdown",
      "metadata": {
        "id": "OjcpyoRjbMds"
      },
      "source": [
        "### Import libraries"
      ]
    },
    {
      "cell_type": "code",
      "execution_count": null,
      "metadata": {
        "id": "q80TAieG7f3e"
      },
      "outputs": [],
      "source": [
        "import numpy as np\n",
        "import keras\n",
        "import tensorflow as tf\n",
        "from matplotlib import pyplot as plt\n",
        "from time import time\n",
        "import warnings\n",
        "from sklearn.metrics import classification_report, confusion_matrix\n",
        "import itertools\n",
        "import os\n",
        "import seaborn as sns\n",
        "import matplotlib.pyplot as plt\n",
        "warnings.filterwarnings(\"ignore\")\n",
        "%matplotlib inline"
      ]
    },
    {
      "cell_type": "markdown",
      "metadata": {
        "id": "9UUSCwUWbPgt"
      },
      "source": [
        "### Dataset paths"
      ]
    },
    {
      "cell_type": "code",
      "execution_count": null,
      "metadata": {
        "id": "TQQIwBKx7yK3"
      },
      "outputs": [],
      "source": [
        "train_path = ''\n",
        "valid_path = ''\n",
        "test_path = ''"
      ]
    },
    {
      "cell_type": "markdown",
      "metadata": {
        "id": "Jn2EgL7QbTg-"
      },
      "source": [
        "### Training classes"
      ]
    },
    {
      "cell_type": "code",
      "execution_count": null,
      "metadata": {
        "id": "GuNizLaoaiLp"
      },
      "outputs": [],
      "source": [
        "train_classes = os.listdir(train_path)"
      ]
    },
    {
      "cell_type": "markdown",
      "metadata": {
        "id": "-0puXx1EbW-L"
      },
      "source": [
        "### Training batch sizes"
      ]
    },
    {
      "cell_type": "code",
      "execution_count": null,
      "metadata": {
        "id": "mUN-3ndJaiLq"
      },
      "outputs": [],
      "source": [
        "train_batch_size = 32\n",
        "test_batch_size = 32\n",
        "valid_batch_size = 32"
      ]
    },
    {
      "cell_type": "markdown",
      "metadata": {
        "id": "NxBhuX7obZMb"
      },
      "source": [
        "### Training samples"
      ]
    },
    {
      "cell_type": "code",
      "execution_count": null,
      "metadata": {
        "id": "xNatr3_TaiLq"
      },
      "outputs": [],
      "source": [
        "train_n = 10080\n",
        "test_n = 2520\n",
        "valid_n = 2520"
      ]
    },
    {
      "cell_type": "markdown",
      "metadata": {
        "id": "7ZrycWZtcXFR"
      },
      "source": [
        "### Training steps (per epoch)"
      ]
    },
    {
      "cell_type": "code",
      "execution_count": null,
      "metadata": {
        "id": "cyuud8qxaiLq"
      },
      "outputs": [],
      "source": [
        "train_steps = train_n//train_batch_size\n",
        "valid_steps = valid_n//valid_batch_size\n",
        "test_steps = test_n//test_batch_size"
      ]
    },
    {
      "cell_type": "markdown",
      "metadata": {
        "id": "gmm0ZQQFcaRR"
      },
      "source": [
        "### Epochs"
      ]
    },
    {
      "cell_type": "code",
      "execution_count": null,
      "metadata": {
        "id": "bGwB0vq_aiLr"
      },
      "outputs": [],
      "source": [
        "epochs = 1000"
      ]
    },
    {
      "cell_type": "markdown",
      "metadata": {
        "id": "4b3I5kiUceiH"
      },
      "source": [
        "### Generate batches"
      ]
    },
    {
      "cell_type": "code",
      "execution_count": null,
      "metadata": {
        "id": "TcxoJHZ7y8_e"
      },
      "outputs": [],
      "source": [
        "train_batches = tf.keras.preprocessing.image.ImageDataGenerator().flow_from_directory(train_path, target_size=(227,227), classes=train_classes, batch_size=train_batch_size)\n",
        "valid_batches = tf.keras.preprocessing.image.ImageDataGenerator().flow_from_directory(valid_path, target_size=(227,227), classes=train_classes, batch_size=valid_batch_size)\n",
        "test_batches = tf.keras.preprocessing.image.ImageDataGenerator().flow_from_directory(test_path, target_size=(227,227), classes=train_classes, batch_size=test_batch_size)"
      ]
    },
    {
      "cell_type": "markdown",
      "metadata": {
        "id": "h5rufm0icjNA"
      },
      "source": [
        "### Base model (AlexNet)"
      ]
    },
    {
      "cell_type": "markdown",
      "metadata": {
        "id": "bohTRaH9crSj"
      },
      "source": [
        "#### Training from scratch"
      ]
    },
    {
      "cell_type": "code",
      "execution_count": null,
      "metadata": {
        "id": "4n5SXVWRaiLu"
      },
      "outputs": [],
      "source": [
        "new_model = tf.keras.models.Sequential([\n",
        "    tf.keras.layers.Conv2D(filters=96, kernel_size=(11,11), strides=(4,4), activation='relu', input_shape=(227,227,3)),\n",
        "    tf.keras.layers.BatchNormalization(),\n",
        "    tf.keras.layers.MaxPool2D(pool_size=(3,3), strides=(2,2)),\n",
        "    tf.keras.layers.Conv2D(filters=256, kernel_size=(5,5), strides=(1,1), activation='relu', padding=\"same\"),\n",
        "    tf.keras.layers.BatchNormalization(),\n",
        "    tf.keras.layers.MaxPool2D(pool_size=(3,3), strides=(2,2)),\n",
        "    tf.keras.layers.Conv2D(filters=384, kernel_size=(3,3), strides=(1,1), activation='relu', padding=\"same\"),\n",
        "    tf.keras.layers.BatchNormalization(),\n",
        "    tf.keras.layers.Conv2D(filters=384, kernel_size=(3,3), strides=(1,1), activation='relu', padding=\"same\"),\n",
        "    tf.keras.layers.BatchNormalization(),\n",
        "    tf.keras.layers.Conv2D(filters=256, kernel_size=(3,3), strides=(1,1), activation='relu', padding=\"same\"),\n",
        "    tf.keras.layers.BatchNormalization(),\n",
        "    tf.keras.layers.MaxPool2D(pool_size=(3,3), strides=(2,2)),\n",
        "    tf.keras.layers.Flatten(),\n",
        "    tf.keras.layers.Dense(4096, activation='relu'),\n",
        "    tf.keras.layers.Dropout(0.5),\n",
        "    tf.keras.layers.Dense(4096, activation='relu'),\n",
        "    tf.keras.layers.Dropout(0.5),\n",
        "    tf.keras.layers.Dense(len(train_classes), activation='softmax')\n",
        "])"
      ]
    },
    {
      "cell_type": "markdown",
      "metadata": {
        "id": "LkV6Oy1bcwW0"
      },
      "source": [
        "### Set early stopping\n",
        "Avoids model overfitting"
      ]
    },
    {
      "cell_type": "code",
      "execution_count": null,
      "metadata": {
        "id": "_0UVP757aiLu"
      },
      "outputs": [],
      "source": [
        "es_callback = tf.keras.callbacks.EarlyStopping(\n",
        "    monitor='acc',\n",
        "    verbose=1,\n",
        "    patience=20,\n",
        "    mode='max',\n",
        "    restore_best_weights=True\n",
        ")"
      ]
    },
    {
      "cell_type": "markdown",
      "metadata": {
        "id": "SKI6gTDgc5pW"
      },
      "source": [
        "### Load tensorboard"
      ]
    },
    {
      "cell_type": "code",
      "execution_count": null,
      "metadata": {
        "id": "RVLt_8u8aiLv"
      },
      "outputs": [],
      "source": [
        "# Load the TensorBoard notebook extension\n",
        "%load_ext tensorboard\n",
        "import datetime\n",
        "log_dir = \"logs\\\\\" + datetime.datetime.now().strftime(\"%Y%m%d-%H%M%S\")\n",
        "# !rm -rf logs/"
      ]
    },
    {
      "cell_type": "code",
      "execution_count": null,
      "metadata": {
        "id": "ZEFk1eEkaiLv"
      },
      "outputs": [],
      "source": [
        "tb_callback = tf.keras.callbacks.TensorBoard(log_dir=log_dir, histogram_freq=1)"
      ]
    },
    {
      "cell_type": "markdown",
      "metadata": {
        "id": "eJnwba-sc88U"
      },
      "source": [
        "### Generate new model"
      ]
    },
    {
      "cell_type": "code",
      "execution_count": null,
      "metadata": {
        "id": "Uye3-lUhaiLv"
      },
      "outputs": [],
      "source": [
        "new_model.compile(optimizer=tf.keras.optimizers.Adam(lr=1e-3), loss=tf.keras.losses.CategoricalCrossentropy(from_logits=False,\n",
        "    label_smoothing=0,\n",
        "    reduction=\"auto\",\n",
        "    name=\"categorical_crossentropy\"), metrics=['accuracy'])"
      ]
    },
    {
      "cell_type": "markdown",
      "metadata": {
        "id": "H_b5nENsc_JR"
      },
      "source": [
        "### Training"
      ]
    },
    {
      "cell_type": "code",
      "execution_count": null,
      "metadata": {
        "id": "Qg39SNppcopZ"
      },
      "outputs": [],
      "source": [
        "history = new_model.fit_generator(train_batches, validation_data=valid_batches, validation_steps=valid_steps, steps_per_epoch=train_steps, epochs=epochs,callbacks=[tb_callback, es_callback])"
      ]
    },
    {
      "cell_type": "markdown",
      "metadata": {
        "id": "M75KUjhMdC4T"
      },
      "source": [
        "### Evaluate training process"
      ]
    },
    {
      "cell_type": "code",
      "execution_count": null,
      "metadata": {
        "id": "KJbNUdKtaiLw"
      },
      "outputs": [],
      "source": [
        "results = new_model.evaluate_generator(train_batches, train_steps)\n",
        "results"
      ]
    },
    {
      "cell_type": "markdown",
      "metadata": {
        "id": "gPiOmt3BdWJ7"
      },
      "source": [
        "#### Loss function"
      ]
    },
    {
      "cell_type": "code",
      "execution_count": null,
      "metadata": {
        "id": "iejCCZcNaiLw"
      },
      "outputs": [],
      "source": [
        "plt.semilogy(history.epoch,  history.history['loss'], label='Train')\n",
        "plt.semilogy(history.epoch,  history.history['val_loss'], label='Validation')\n",
        "plt.xlabel('Epoch')\n",
        "plt.ylabel('Loss')\n",
        "plt.legend()\n",
        "plt.show()"
      ]
    },
    {
      "cell_type": "markdown",
      "metadata": {
        "id": "fvIg0vLtdY_0"
      },
      "source": [
        "#### Accuracy function"
      ]
    },
    {
      "cell_type": "code",
      "execution_count": null,
      "metadata": {
        "id": "4daZQkmXaiLx"
      },
      "outputs": [],
      "source": [
        "plt.semilogy(history.epoch,  history.history['acc'], label='Train')\n",
        "plt.semilogy(history.epoch,  history.history['val_acc'], label='Validation')\n",
        "plt.xlabel('Epoch')\n",
        "plt.ylabel('Accuracy')\n",
        "plt.legend()\n",
        "plt.show()"
      ]
    },
    {
      "cell_type": "code",
      "execution_count": null,
      "metadata": {
        "id": "6kFJN-rWaiLy"
      },
      "outputs": [],
      "source": [
        "Y_train_pred =new_model.predict_generator(train_batches,train_steps)"
      ]
    },
    {
      "cell_type": "code",
      "execution_count": null,
      "metadata": {
        "id": "ZMWTh6OpaiLy"
      },
      "outputs": [],
      "source": [
        "y_train_pred = np.argmax(Y_train_pred, axis=1)"
      ]
    },
    {
      "cell_type": "markdown",
      "metadata": {
        "id": "WJBMtXZqdcbY"
      },
      "source": [
        "#### Confusion matrix"
      ]
    },
    {
      "cell_type": "code",
      "execution_count": null,
      "metadata": {
        "id": "bfzGQv-LaiLy"
      },
      "outputs": [],
      "source": [
        "cm_train = confusion_matrix(train_batches.classes, y_train_pred)"
      ]
    },
    {
      "cell_type": "code",
      "execution_count": null,
      "metadata": {
        "id": "IwH5VuYMaiLz"
      },
      "outputs": [],
      "source": [
        "plt.figure(figsize=(15,15))\n",
        "sns.heatmap(cm_train, annot=True, fmt=\"d\")\n",
        "plt.title('Confusion matrix (Train)')\n",
        "plt.ylabel('Actual label')\n",
        "plt.xlabel('Predicted label')"
      ]
    },
    {
      "cell_type": "markdown",
      "metadata": {
        "id": "1DA4hsw5dg5j"
      },
      "source": [
        "### Model testing"
      ]
    },
    {
      "cell_type": "code",
      "execution_count": null,
      "metadata": {
        "id": "9l0uYBMrBYEX"
      },
      "outputs": [],
      "source": [
        "Y_pred =new_model.predict_generator(test_batches,test_steps)"
      ]
    },
    {
      "cell_type": "code",
      "execution_count": null,
      "metadata": {
        "id": "NA-nFUxiaiLx"
      },
      "outputs": [],
      "source": [
        "y_pred = np.argmax(Y_pred, axis=1)"
      ]
    },
    {
      "cell_type": "code",
      "execution_count": null,
      "metadata": {
        "id": "kZxYPbqdBvvm"
      },
      "outputs": [],
      "source": [
        "cm = confusion_matrix(test_batches.classes, y_pred)"
      ]
    },
    {
      "cell_type": "code",
      "execution_count": null,
      "metadata": {
        "id": "wQjFACoBB2t5"
      },
      "outputs": [],
      "source": [
        "plt.figure(figsize=(15,15))\n",
        "sns.heatmap(cm, annot=True, fmt=\"d\")\n",
        "plt.title('Confusion matrix')\n",
        "plt.ylabel('Actual label')\n",
        "plt.xlabel('Predicted label')"
      ]
    },
    {
      "cell_type": "markdown",
      "metadata": {
        "id": "K1FSvw3BdlGa"
      },
      "source": [
        "### Load tensorboard"
      ]
    },
    {
      "cell_type": "code",
      "execution_count": null,
      "metadata": {
        "id": "gWnW3A95aiLz"
      },
      "outputs": [],
      "source": [
        "%tensorboard --logdir logs"
      ]
    },
    {
      "cell_type": "markdown",
      "metadata": {
        "id": "AY1sgUoIdoHm"
      },
      "source": [
        "### Save model"
      ]
    },
    {
      "cell_type": "code",
      "execution_count": null,
      "metadata": {
        "id": "FUwqwmJxaiL0"
      },
      "outputs": [],
      "source": [
        "new_model.save('model_name.h5')"
      ]
    }
  ],
  "metadata": {
    "accelerator": "GPU",
    "colab": {
      "collapsed_sections": [],
      "name": "vgg16",
      "provenance": [],
      "toc_visible": true
    },
    "kernelspec": {
      "display_name": "Python 3",
      "language": "python",
      "name": "python3"
    },
    "language_info": {
      "codemirror_mode": {
        "name": "ipython",
        "version": 3
      },
      "file_extension": ".py",
      "mimetype": "text/x-python",
      "name": "python",
      "nbconvert_exporter": "python",
      "pygments_lexer": "ipython3",
      "version": "3.7.3"
    }
  },
  "nbformat": 4,
  "nbformat_minor": 0
}
